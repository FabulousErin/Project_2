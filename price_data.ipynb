{
 "cells": [
  {
   "cell_type": "code",
   "execution_count": 12,
   "metadata": {},
   "outputs": [
    {
     "name": "stderr",
     "output_type": "stream",
     "text": [
      "Using TensorFlow backend.\n"
     ]
    }
   ],
   "source": [
    "import pandas as pd\n",
    "from sqlalchemy import create_engine\n",
    "import numpy as np\n",
    "\n",
    "import matplotlib.pyplot as plt\n",
    "%matplotlib inline\n",
    "\n",
    "from matplotlib.pylab import rcParams\n",
    "rcParams['figure.figsize']=20,10\n",
    "from keras.models import Sequential\n",
    "from keras.layers import LSTM,Dropout,Dense\n",
    "\n",
    "\n",
    "from sklearn.preprocessing import MinMaxScaler"
   ]
  },
  {
   "cell_type": "code",
   "execution_count": 13,
   "metadata": {},
   "outputs": [],
   "source": [
    "csv_path='static/data/BBG_price_data.csv'"
   ]
  },
  {
   "cell_type": "code",
   "execution_count": 24,
   "metadata": {},
   "outputs": [
    {
     "data": {
      "text/html": [
       "<div>\n",
       "<style scoped>\n",
       "    .dataframe tbody tr th:only-of-type {\n",
       "        vertical-align: middle;\n",
       "    }\n",
       "\n",
       "    .dataframe tbody tr th {\n",
       "        vertical-align: top;\n",
       "    }\n",
       "\n",
       "    .dataframe thead th {\n",
       "        text-align: right;\n",
       "    }\n",
       "</style>\n",
       "<table border=\"1\" class=\"dataframe\">\n",
       "  <thead>\n",
       "    <tr style=\"text-align: right;\">\n",
       "      <th></th>\n",
       "      <th>Date</th>\n",
       "      <th>Corn Price</th>\n",
       "      <th>Wheat Price</th>\n",
       "      <th>Soybean Price</th>\n",
       "      <th>Cotton Price</th>\n",
       "      <th>Live Cattle</th>\n",
       "    </tr>\n",
       "  </thead>\n",
       "  <tbody>\n",
       "    <tr>\n",
       "      <th>0</th>\n",
       "      <td>1/4/2010</td>\n",
       "      <td>418.50</td>\n",
       "      <td>557.75</td>\n",
       "      <td>1049.50</td>\n",
       "      <td>76.00</td>\n",
       "      <td>85.375</td>\n",
       "    </tr>\n",
       "    <tr>\n",
       "      <th>1</th>\n",
       "      <td>1/5/2010</td>\n",
       "      <td>418.75</td>\n",
       "      <td>553.00</td>\n",
       "      <td>1052.25</td>\n",
       "      <td>73.12</td>\n",
       "      <td>86.325</td>\n",
       "    </tr>\n",
       "    <tr>\n",
       "      <th>2</th>\n",
       "      <td>1/6/2010</td>\n",
       "      <td>421.75</td>\n",
       "      <td>567.25</td>\n",
       "      <td>1050.50</td>\n",
       "      <td>73.55</td>\n",
       "      <td>85.950</td>\n",
       "    </tr>\n",
       "    <tr>\n",
       "      <th>3</th>\n",
       "      <td>1/7/2010</td>\n",
       "      <td>417.50</td>\n",
       "      <td>557.75</td>\n",
       "      <td>1017.75</td>\n",
       "      <td>72.89</td>\n",
       "      <td>85.925</td>\n",
       "    </tr>\n",
       "    <tr>\n",
       "      <th>4</th>\n",
       "      <td>1/8/2010</td>\n",
       "      <td>423.00</td>\n",
       "      <td>568.50</td>\n",
       "      <td>1013.00</td>\n",
       "      <td>72.44</td>\n",
       "      <td>85.825</td>\n",
       "    </tr>\n",
       "    <tr>\n",
       "      <th>...</th>\n",
       "      <td>...</td>\n",
       "      <td>...</td>\n",
       "      <td>...</td>\n",
       "      <td>...</td>\n",
       "      <td>...</td>\n",
       "      <td>...</td>\n",
       "    </tr>\n",
       "    <tr>\n",
       "      <th>2896</th>\n",
       "      <td>7/2/2021</td>\n",
       "      <td>697.25</td>\n",
       "      <td>645.75</td>\n",
       "      <td>1451.75</td>\n",
       "      <td>86.03</td>\n",
       "      <td>122.000</td>\n",
       "    </tr>\n",
       "    <tr>\n",
       "      <th>2897</th>\n",
       "      <td>7/6/2021</td>\n",
       "      <td>656.00</td>\n",
       "      <td>620.00</td>\n",
       "      <td>1363.75</td>\n",
       "      <td>86.38</td>\n",
       "      <td>122.400</td>\n",
       "    </tr>\n",
       "    <tr>\n",
       "      <th>2898</th>\n",
       "      <td>7/7/2021</td>\n",
       "      <td>652.50</td>\n",
       "      <td>614.75</td>\n",
       "      <td>1386.50</td>\n",
       "      <td>86.63</td>\n",
       "      <td>120.600</td>\n",
       "    </tr>\n",
       "    <tr>\n",
       "      <th>2899</th>\n",
       "      <td>7/8/2021</td>\n",
       "      <td>638.00</td>\n",
       "      <td>612.25</td>\n",
       "      <td>1390.25</td>\n",
       "      <td>85.88</td>\n",
       "      <td>119.275</td>\n",
       "    </tr>\n",
       "    <tr>\n",
       "      <th>2900</th>\n",
       "      <td>7/9/2021</td>\n",
       "      <td>629.75</td>\n",
       "      <td>608.50</td>\n",
       "      <td>1404.00</td>\n",
       "      <td>87.99</td>\n",
       "      <td>119.225</td>\n",
       "    </tr>\n",
       "  </tbody>\n",
       "</table>\n",
       "<p>2901 rows × 6 columns</p>\n",
       "</div>"
      ],
      "text/plain": [
       "          Date  Corn Price  Wheat Price  Soybean Price  Cotton Price  \\\n",
       "0     1/4/2010      418.50       557.75        1049.50         76.00   \n",
       "1     1/5/2010      418.75       553.00        1052.25         73.12   \n",
       "2     1/6/2010      421.75       567.25        1050.50         73.55   \n",
       "3     1/7/2010      417.50       557.75        1017.75         72.89   \n",
       "4     1/8/2010      423.00       568.50        1013.00         72.44   \n",
       "...        ...         ...          ...            ...           ...   \n",
       "2896  7/2/2021      697.25       645.75        1451.75         86.03   \n",
       "2897  7/6/2021      656.00       620.00        1363.75         86.38   \n",
       "2898  7/7/2021      652.50       614.75        1386.50         86.63   \n",
       "2899  7/8/2021      638.00       612.25        1390.25         85.88   \n",
       "2900  7/9/2021      629.75       608.50        1404.00         87.99   \n",
       "\n",
       "      Live Cattle  \n",
       "0          85.375  \n",
       "1          86.325  \n",
       "2          85.950  \n",
       "3          85.925  \n",
       "4          85.825  \n",
       "...           ...  \n",
       "2896      122.000  \n",
       "2897      122.400  \n",
       "2898      120.600  \n",
       "2899      119.275  \n",
       "2900      119.225  \n",
       "\n",
       "[2901 rows x 6 columns]"
      ]
     },
     "execution_count": 24,
     "metadata": {},
     "output_type": "execute_result"
    },
    {
     "name": "stdout",
     "output_type": "stream",
     "text": [
      "ERROR! Session/line number was not unique in database. History logging moved to new session 1192\n"
     ]
    }
   ],
   "source": [
    "df = pd.read_csv(csv_path)\n",
    "df"
   ]
  },
  {
   "cell_type": "code",
   "execution_count": 20,
   "metadata": {},
   "outputs": [
    {
     "name": "stdout",
     "output_type": "stream",
     "text": [
      "Requirement already satisfied: psycopg2 in c:\\users\\erinn\\anaconda3\\envs\\bootcampml\\lib\\site-packages (2.9.1)\n"
     ]
    }
   ],
   "source": [
    "!pip install psycopg2"
   ]
  },
  {
   "cell_type": "code",
   "execution_count": 16,
   "metadata": {},
   "outputs": [],
   "source": [
    "from sqlalchemy import create_engine\n",
    "import psycopg2 \n",
    "con_str = 'postgres:myAkina93!@database-1.c6qqzgohsabf.us-east-2.rds.amazonaws.com:5432/project2'\n",
    "engine = create_engine(f'postgresql://{con_str}')"
   ]
  },
  {
   "cell_type": "code",
   "execution_count": 21,
   "metadata": {},
   "outputs": [
    {
     "name": "stdout",
     "output_type": "stream",
     "text": [
      "ERROR! Session/line number was not unique in database. History logging moved to new session 1186\n"
     ]
    }
   ],
   "source": [
    "df.to_sql(name='price_raw_data', con=engine, if_exists='append', index=False)"
   ]
  },
  {
   "cell_type": "code",
   "execution_count": 25,
   "metadata": {},
   "outputs": [
    {
     "name": "stdout",
     "output_type": "stream",
     "text": [
      "<class 'pandas.core.frame.DataFrame'>\n",
      "RangeIndex: 2901 entries, 0 to 2900\n",
      "Data columns (total 6 columns):\n",
      " #   Column         Non-Null Count  Dtype  \n",
      "---  ------         --------------  -----  \n",
      " 0   Date           2901 non-null   object \n",
      " 1   Corn Price     2901 non-null   float64\n",
      " 2   Wheat Price    2901 non-null   float64\n",
      " 3   Soybean Price  2901 non-null   float64\n",
      " 4   Cotton Price   2901 non-null   float64\n",
      " 5   Live Cattle    2901 non-null   float64\n",
      "dtypes: float64(5), object(1)\n",
      "memory usage: 136.1+ KB\n"
     ]
    }
   ],
   "source": [
    "df.info()\n"
   ]
  },
  {
   "cell_type": "code",
   "execution_count": 31,
   "metadata": {},
   "outputs": [
    {
     "name": "stdout",
     "output_type": "stream",
     "text": [
      "ERROR! Session/line number was not unique in database. History logging moved to new session 1201\n"
     ]
    },
    {
     "data": {
      "text/plain": [
       "[<matplotlib.lines.Line2D at 0x1e7ad3c0f60>]"
      ]
     },
     "execution_count": 31,
     "metadata": {},
     "output_type": "execute_result"
    },
    {
     "data": {
      "image/png": "[encoded data removed]",
      "text/plain": [
       "<Figure size 1152x576 with 1 Axes>"
      ]
     },
     "metadata": {
      "needs_background": "light"
     },
     "output_type": "display_data"
    }
   ],
   "source": [
    "df[\"Date\"]=pd.to_datetime(df.Date,format=\"%m/%d/%Y\")\n",
    "df = df.set_index('Date', drop=True) \n",
    "\n",
    "plt.figure(figsize=(16,8))\n",
    "plt.plot(df[\"Corn Price\"],label='Corn Price history')"
   ]
  },
  {
   "cell_type": "code",
   "execution_count": 34,
   "metadata": {},
   "outputs": [
    {
     "data": {
      "text/html": [
       "<div>\n",
       "<style scoped>\n",
       "    .dataframe tbody tr th:only-of-type {\n",
       "        vertical-align: middle;\n",
       "    }\n",
       "\n",
       "    .dataframe tbody tr th {\n",
       "        vertical-align: top;\n",
       "    }\n",
       "\n",
       "    .dataframe thead th {\n",
       "        text-align: right;\n",
       "    }\n",
       "</style>\n",
       "<table border=\"1\" class=\"dataframe\">\n",
       "  <thead>\n",
       "    <tr style=\"text-align: right;\">\n",
       "      <th></th>\n",
       "      <th>Corn Price</th>\n",
       "    </tr>\n",
       "    <tr>\n",
       "      <th>Date</th>\n",
       "      <th></th>\n",
       "    </tr>\n",
       "  </thead>\n",
       "  <tbody>\n",
       "    <tr>\n",
       "      <th>2010-01-04</th>\n",
       "      <td>418.50</td>\n",
       "    </tr>\n",
       "    <tr>\n",
       "      <th>2010-01-05</th>\n",
       "      <td>418.75</td>\n",
       "    </tr>\n",
       "    <tr>\n",
       "      <th>2010-01-06</th>\n",
       "      <td>421.75</td>\n",
       "    </tr>\n",
       "    <tr>\n",
       "      <th>2010-01-07</th>\n",
       "      <td>417.50</td>\n",
       "    </tr>\n",
       "    <tr>\n",
       "      <th>2010-01-08</th>\n",
       "      <td>423.00</td>\n",
       "    </tr>\n",
       "  </tbody>\n",
       "</table>\n",
       "</div>"
      ],
      "text/plain": [
       "            Corn Price\n",
       "Date                  \n",
       "2010-01-04      418.50\n",
       "2010-01-05      418.75\n",
       "2010-01-06      421.75\n",
       "2010-01-07      417.50\n",
       "2010-01-08      423.00"
      ]
     },
     "execution_count": 34,
     "metadata": {},
     "output_type": "execute_result"
    }
   ],
   "source": [
    "# data_df.sort_index(ascending=True,axis=0)\n",
    "corn_df=df[['Corn Price']]\n",
    "corn_df.head()"
   ]
  },
  {
   "cell_type": "code",
   "execution_count": 41,
   "metadata": {},
   "outputs": [],
   "source": [
    "scaler=MinMaxScaler(feature_range=(0,1))\n",
    "final_dataset = corn_df.values\n",
    "\n",
    "final_dataset=scaler.fit_transform(final_dataset)\n",
    "\n",
    "train_data=final_dataset[0:1450,:]\n",
    "valid_data=final_dataset[1450:,:]"
   ]
  },
  {
   "cell_type": "code",
   "execution_count": 42,
   "metadata": {
    "scrolled": true
   },
   "outputs": [
    {
     "data": {
      "text/html": [
       "<div>\n",
       "<style scoped>\n",
       "    .dataframe tbody tr th:only-of-type {\n",
       "        vertical-align: middle;\n",
       "    }\n",
       "\n",
       "    .dataframe tbody tr th {\n",
       "        vertical-align: top;\n",
       "    }\n",
       "\n",
       "    .dataframe thead th {\n",
       "        text-align: right;\n",
       "    }\n",
       "</style>\n",
       "<table border=\"1\" class=\"dataframe\">\n",
       "  <thead>\n",
       "    <tr style=\"text-align: right;\">\n",
       "      <th></th>\n",
       "      <th>Corn Price</th>\n",
       "      <th>Wheat Price</th>\n",
       "      <th>Soybean Price</th>\n",
       "      <th>Cotton Price</th>\n",
       "      <th>Live Cattle</th>\n",
       "    </tr>\n",
       "    <tr>\n",
       "      <th>Date</th>\n",
       "      <th></th>\n",
       "      <th></th>\n",
       "      <th></th>\n",
       "      <th></th>\n",
       "      <th></th>\n",
       "    </tr>\n",
       "  </thead>\n",
       "  <tbody>\n",
       "    <tr>\n",
       "      <th>2010-01-04</th>\n",
       "      <td>418.50</td>\n",
       "      <td>557.75</td>\n",
       "      <td>1049.50</td>\n",
       "      <td>76.00</td>\n",
       "      <td>85.375</td>\n",
       "    </tr>\n",
       "    <tr>\n",
       "      <th>2010-01-05</th>\n",
       "      <td>418.75</td>\n",
       "      <td>553.00</td>\n",
       "      <td>1052.25</td>\n",
       "      <td>73.12</td>\n",
       "      <td>86.325</td>\n",
       "    </tr>\n",
       "    <tr>\n",
       "      <th>2010-01-06</th>\n",
       "      <td>421.75</td>\n",
       "      <td>567.25</td>\n",
       "      <td>1050.50</td>\n",
       "      <td>73.55</td>\n",
       "      <td>85.950</td>\n",
       "    </tr>\n",
       "    <tr>\n",
       "      <th>2010-01-07</th>\n",
       "      <td>417.50</td>\n",
       "      <td>557.75</td>\n",
       "      <td>1017.75</td>\n",
       "      <td>72.89</td>\n",
       "      <td>85.925</td>\n",
       "    </tr>\n",
       "    <tr>\n",
       "      <th>2010-01-08</th>\n",
       "      <td>423.00</td>\n",
       "      <td>568.50</td>\n",
       "      <td>1013.00</td>\n",
       "      <td>72.44</td>\n",
       "      <td>85.825</td>\n",
       "    </tr>\n",
       "  </tbody>\n",
       "</table>\n",
       "</div>"
      ],
      "text/plain": [
       "            Corn Price  Wheat Price  Soybean Price  Cotton Price  Live Cattle\n",
       "Date                                                                         \n",
       "2010-01-04      418.50       557.75        1049.50         76.00       85.375\n",
       "2010-01-05      418.75       553.00        1052.25         73.12       86.325\n",
       "2010-01-06      421.75       567.25        1050.50         73.55       85.950\n",
       "2010-01-07      417.50       557.75        1017.75         72.89       85.925\n",
       "2010-01-08      423.00       568.50        1013.00         72.44       85.825"
      ]
     },
     "execution_count": 42,
     "metadata": {},
     "output_type": "execute_result"
    }
   ],
   "source": [
    "df.head()"
   ]
  },
  {
   "cell_type": "code",
   "execution_count": 43,
   "metadata": {},
   "outputs": [],
   "source": [
    "x_train_data,y_train_data=[],[]\n",
    "\n",
    "for i in range(60,len(train_data)):\n",
    "    x_train_data.append(scaled_data[i-60:i,0])\n",
    "    y_train_data.append(scaled_data[i,0])\n",
    "    \n",
    "x_train_data,y_train_data=np.array(x_train_data),np.array(y_train_data)\n",
    "\n",
    "x_train_data=np.reshape(x_train_data,(x_train_data.shape[0],x_train_data.shape[1],1))"
   ]
  },
  {
   "cell_type": "code",
   "execution_count": 45,
   "metadata": {},
   "outputs": [
    {
     "name": "stdout",
     "output_type": "stream",
     "text": [
      "ERROR! Session/line number was not unique in database. History logging moved to new session 1204\n",
      "Epoch 1/1\n",
      " - 175s - loss: 0.0039\n"
     ]
    },
    {
     "data": {
      "text/plain": [
       "<keras.callbacks.callbacks.History at 0x1e7b2cfcd68>"
      ]
     },
     "execution_count": 45,
     "metadata": {},
     "output_type": "execute_result"
    }
   ],
   "source": [
    "lstm_model=Sequential()\n",
    "lstm_model.add(LSTM(units=50,return_sequences=True,input_shape=(x_train_data.shape[1],1)))\n",
    "lstm_model.add(LSTM(units=50))\n",
    "lstm_model.add(Dense(1))\n",
    "\n",
    "# inputs_data=final_dataset[len(final_dataset)-len(valid_data)-60:]\n",
    "# inputs_data=inputs_data.reshape(-1,1)\n",
    "# inputs_data=scaler.transform(inputs_data)\n",
    "\n",
    "lstm_model.compile(loss='mean_squared_error',optimizer='adam')\n",
    "lstm_model.fit(x_train_data,y_train_data,epochs=1,batch_size=1,verbose=2)\n"
   ]
  }
 ],
 "metadata": {
  "kernelspec": {
   "display_name": "Python [conda env:BootCampML]",
   "language": "python",
   "name": "conda-env-BootCampML-py"
  },
  "language_info": {
   "codemirror_mode": {
    "name": "ipython",
    "version": 3
   },
   "file_extension": ".py",
   "mimetype": "text/x-python",
   "name": "python",
   "nbconvert_exporter": "python",
   "pygments_lexer": "ipython3",
   "version": "3.6.13"
  }
 },
 "nbformat": 4,
 "nbformat_minor": 5
}
