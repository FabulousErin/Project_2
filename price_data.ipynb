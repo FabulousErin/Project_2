{
 "cells": [
  {
   "cell_type": "code",
   "execution_count": 1,
   "id": "76f1b2c8",
   "metadata": {},
   "outputs": [],
   "source": [
    "import pandas as pd\n",
    "from sqlalchemy import create_engine"
   ]
  },
  {
   "cell_type": "code",
   "execution_count": 2,
   "id": "b863ad1c",
   "metadata": {},
   "outputs": [],
   "source": [
    "csv_path='static/data/BBG_price_data.csv'"
   ]
  },
  {
   "cell_type": "code",
   "execution_count": 3,
   "id": "7e61ed2a",
   "metadata": {},
   "outputs": [
    {
     "data": {
      "text/html": [
       "<div>\n",
       "<style scoped>\n",
       "    .dataframe tbody tr th:only-of-type {\n",
       "        vertical-align: middle;\n",
       "    }\n",
       "\n",
       "    .dataframe tbody tr th {\n",
       "        vertical-align: top;\n",
       "    }\n",
       "\n",
       "    .dataframe thead th {\n",
       "        text-align: right;\n",
       "    }\n",
       "</style>\n",
       "<table border=\"1\" class=\"dataframe\">\n",
       "  <thead>\n",
       "    <tr style=\"text-align: right;\">\n",
       "      <th></th>\n",
       "      <th>Date</th>\n",
       "      <th>Corn Price</th>\n",
       "      <th>Wheat Price</th>\n",
       "      <th>Soybean Price</th>\n",
       "      <th>Cotton Price</th>\n",
       "      <th>Live Cattle</th>\n",
       "    </tr>\n",
       "  </thead>\n",
       "  <tbody>\n",
       "    <tr>\n",
       "      <th>0</th>\n",
       "      <td>1/4/2010</td>\n",
       "      <td>418.50</td>\n",
       "      <td>557.75</td>\n",
       "      <td>1049.50</td>\n",
       "      <td>76.00</td>\n",
       "      <td>85.375</td>\n",
       "    </tr>\n",
       "    <tr>\n",
       "      <th>1</th>\n",
       "      <td>1/5/2010</td>\n",
       "      <td>418.75</td>\n",
       "      <td>553.00</td>\n",
       "      <td>1052.25</td>\n",
       "      <td>73.12</td>\n",
       "      <td>86.325</td>\n",
       "    </tr>\n",
       "    <tr>\n",
       "      <th>2</th>\n",
       "      <td>1/6/2010</td>\n",
       "      <td>421.75</td>\n",
       "      <td>567.25</td>\n",
       "      <td>1050.50</td>\n",
       "      <td>73.55</td>\n",
       "      <td>85.950</td>\n",
       "    </tr>\n",
       "    <tr>\n",
       "      <th>3</th>\n",
       "      <td>1/7/2010</td>\n",
       "      <td>417.50</td>\n",
       "      <td>557.75</td>\n",
       "      <td>1017.75</td>\n",
       "      <td>72.89</td>\n",
       "      <td>85.925</td>\n",
       "    </tr>\n",
       "    <tr>\n",
       "      <th>4</th>\n",
       "      <td>1/8/2010</td>\n",
       "      <td>423.00</td>\n",
       "      <td>568.50</td>\n",
       "      <td>1013.00</td>\n",
       "      <td>72.44</td>\n",
       "      <td>85.825</td>\n",
       "    </tr>\n",
       "    <tr>\n",
       "      <th>...</th>\n",
       "      <td>...</td>\n",
       "      <td>...</td>\n",
       "      <td>...</td>\n",
       "      <td>...</td>\n",
       "      <td>...</td>\n",
       "      <td>...</td>\n",
       "    </tr>\n",
       "    <tr>\n",
       "      <th>2896</th>\n",
       "      <td>7/2/2021</td>\n",
       "      <td>697.25</td>\n",
       "      <td>645.75</td>\n",
       "      <td>1451.75</td>\n",
       "      <td>86.03</td>\n",
       "      <td>122.000</td>\n",
       "    </tr>\n",
       "    <tr>\n",
       "      <th>2897</th>\n",
       "      <td>7/6/2021</td>\n",
       "      <td>656.00</td>\n",
       "      <td>620.00</td>\n",
       "      <td>1363.75</td>\n",
       "      <td>86.38</td>\n",
       "      <td>122.400</td>\n",
       "    </tr>\n",
       "    <tr>\n",
       "      <th>2898</th>\n",
       "      <td>7/7/2021</td>\n",
       "      <td>652.50</td>\n",
       "      <td>614.75</td>\n",
       "      <td>1386.50</td>\n",
       "      <td>86.63</td>\n",
       "      <td>120.600</td>\n",
       "    </tr>\n",
       "    <tr>\n",
       "      <th>2899</th>\n",
       "      <td>7/8/2021</td>\n",
       "      <td>638.00</td>\n",
       "      <td>612.25</td>\n",
       "      <td>1390.25</td>\n",
       "      <td>85.88</td>\n",
       "      <td>119.275</td>\n",
       "    </tr>\n",
       "    <tr>\n",
       "      <th>2900</th>\n",
       "      <td>7/9/2021</td>\n",
       "      <td>629.75</td>\n",
       "      <td>608.50</td>\n",
       "      <td>1404.00</td>\n",
       "      <td>87.99</td>\n",
       "      <td>119.225</td>\n",
       "    </tr>\n",
       "  </tbody>\n",
       "</table>\n",
       "<p>2901 rows × 6 columns</p>\n",
       "</div>"
      ],
      "text/plain": [
       "          Date  Corn Price  Wheat Price  Soybean Price  Cotton Price  \\\n",
       "0     1/4/2010      418.50       557.75        1049.50         76.00   \n",
       "1     1/5/2010      418.75       553.00        1052.25         73.12   \n",
       "2     1/6/2010      421.75       567.25        1050.50         73.55   \n",
       "3     1/7/2010      417.50       557.75        1017.75         72.89   \n",
       "4     1/8/2010      423.00       568.50        1013.00         72.44   \n",
       "...        ...         ...          ...            ...           ...   \n",
       "2896  7/2/2021      697.25       645.75        1451.75         86.03   \n",
       "2897  7/6/2021      656.00       620.00        1363.75         86.38   \n",
       "2898  7/7/2021      652.50       614.75        1386.50         86.63   \n",
       "2899  7/8/2021      638.00       612.25        1390.25         85.88   \n",
       "2900  7/9/2021      629.75       608.50        1404.00         87.99   \n",
       "\n",
       "      Live Cattle  \n",
       "0          85.375  \n",
       "1          86.325  \n",
       "2          85.950  \n",
       "3          85.925  \n",
       "4          85.825  \n",
       "...           ...  \n",
       "2896      122.000  \n",
       "2897      122.400  \n",
       "2898      120.600  \n",
       "2899      119.275  \n",
       "2900      119.225  \n",
       "\n",
       "[2901 rows x 6 columns]"
      ]
     },
     "execution_count": 3,
     "metadata": {},
     "output_type": "execute_result"
    }
   ],
   "source": [
    "price_df = pd.read_csv(csv_path)\n",
    "price_df"
   ]
  },
  {
   "cell_type": "code",
   "execution_count": 4,
   "id": "c6219baf",
   "metadata": {},
   "outputs": [
    {
     "name": "stdout",
     "output_type": "stream",
     "text": [
      "Collecting psycopg2\n",
      "  Downloading psycopg2-2.9.1-cp36-cp36m-win_amd64.whl (1.1 MB)\n",
      "Installing collected packages: psycopg2\n",
      "Successfully installed psycopg2-2.9.1\n"
     ]
    }
   ],
   "source": [
    "!pip install psycopg2"
   ]
  },
  {
   "cell_type": "code",
   "execution_count": 5,
   "id": "137457b0",
   "metadata": {},
   "outputs": [],
   "source": [
    "from sqlalchemy import create_engine\n",
    "import psycopg2 \n",
    "con_str = 'postgres:myAkina93!@database-1.c6qqzgohsabf.us-east-2.rds.amazonaws.com:5432/project2'\n",
    "engine = create_engine(f'postgresql://{con_str}')"
   ]
  },
  {
   "cell_type": "code",
   "execution_count": 7,
   "id": "a81fcc7f",
   "metadata": {},
   "outputs": [],
   "source": [
    "price_df.to_sql(name='price_raw_data', con=engine, if_exists='append', index=False)"
   ]
  },
  {
   "cell_type": "code",
   "execution_count": null,
   "id": "029e306f",
   "metadata": {},
   "outputs": [],
   "source": []
  }
 ],
 "metadata": {
  "kernelspec": {
   "display_name": "Python [conda env:BootCampML] *",
   "language": "python",
   "name": "conda-env-BootCampML-py"
  },
  "language_info": {
   "codemirror_mode": {
    "name": "ipython",
    "version": 3
   },
   "file_extension": ".py",
   "mimetype": "text/x-python",
   "name": "python",
   "nbconvert_exporter": "python",
   "pygments_lexer": "ipython3",
   "version": "3.6.13"
  }
 },
 "nbformat": 4,
 "nbformat_minor": 5
}
